{
 "cells": [
  {
   "cell_type": "code",
   "execution_count": 1,
   "metadata": {},
   "outputs": [],
   "source": [
    "import pandas as pd\n",
    "import numpy as np\n",
    "import matplotlib.pyplot as plt\n",
    "import time\n",
    "SEED = int(time.time())\n",
    "\n",
    "import sys\n",
    "sys.path.append('..')\n",
    "\n",
    "from os.path import join\n",
    "from datetime import datetime\n",
    "\n",
    "DATAFOLDER = join('..', 'data')"
   ]
  },
  {
   "cell_type": "markdown",
   "metadata": {},
   "source": [
    "# Load data and get chunks"
   ]
  },
  {
   "cell_type": "code",
   "execution_count": 2,
   "metadata": {},
   "outputs": [
    {
     "data": {
      "text/html": [
       "<div>\n",
       "<style scoped>\n",
       "    .dataframe tbody tr th:only-of-type {\n",
       "        vertical-align: middle;\n",
       "    }\n",
       "\n",
       "    .dataframe tbody tr th {\n",
       "        vertical-align: top;\n",
       "    }\n",
       "\n",
       "    .dataframe thead th {\n",
       "        text-align: right;\n",
       "    }\n",
       "</style>\n",
       "<table border=\"1\" class=\"dataframe\">\n",
       "  <thead>\n",
       "    <tr style=\"text-align: right;\">\n",
       "      <th></th>\n",
       "      <th>league</th>\n",
       "      <th>area</th>\n",
       "      <th>retrieved_from_url</th>\n",
       "      <th>start_time</th>\n",
       "      <th>end_time</th>\n",
       "      <th>team1</th>\n",
       "      <th>team2</th>\n",
       "      <th>team1_score</th>\n",
       "      <th>team2_score</th>\n",
       "      <th>outcome</th>\n",
       "      <th>team1_odds</th>\n",
       "      <th>team2_odds</th>\n",
       "      <th>draw_odds</th>\n",
       "    </tr>\n",
       "  </thead>\n",
       "  <tbody>\n",
       "    <tr>\n",
       "      <th>0</th>\n",
       "      <td>Serie A</td>\n",
       "      <td>Brazil</td>\n",
       "      <td>https://www.oddsportal.com/soccer/brazil/serie...</td>\n",
       "      <td>1559523600</td>\n",
       "      <td>1559529000</td>\n",
       "      <td>Atletico-MG</td>\n",
       "      <td>CSA</td>\n",
       "      <td>4.0</td>\n",
       "      <td>0.0</td>\n",
       "      <td>TEAM1</td>\n",
       "      <td>1.41</td>\n",
       "      <td>7.98</td>\n",
       "      <td>4.31</td>\n",
       "    </tr>\n",
       "    <tr>\n",
       "      <th>1</th>\n",
       "      <td>Serie A</td>\n",
       "      <td>Brazil</td>\n",
       "      <td>https://www.oddsportal.com/soccer/brazil/serie...</td>\n",
       "      <td>1559523600</td>\n",
       "      <td>1559529000</td>\n",
       "      <td>Chapecoense-SC</td>\n",
       "      <td>Palmeiras</td>\n",
       "      <td>1.0</td>\n",
       "      <td>2.0</td>\n",
       "      <td>TEAM2</td>\n",
       "      <td>5.92</td>\n",
       "      <td>1.63</td>\n",
       "      <td>3.51</td>\n",
       "    </tr>\n",
       "    <tr>\n",
       "      <th>2</th>\n",
       "      <td>Serie A</td>\n",
       "      <td>Brazil</td>\n",
       "      <td>https://www.oddsportal.com/soccer/brazil/serie...</td>\n",
       "      <td>1559523600</td>\n",
       "      <td>1559529000</td>\n",
       "      <td>Internacional</td>\n",
       "      <td>Avai</td>\n",
       "      <td>2.0</td>\n",
       "      <td>0.0</td>\n",
       "      <td>TEAM1</td>\n",
       "      <td>1.43</td>\n",
       "      <td>8.22</td>\n",
       "      <td>4.15</td>\n",
       "    </tr>\n",
       "    <tr>\n",
       "      <th>3</th>\n",
       "      <td>Serie A</td>\n",
       "      <td>Brazil</td>\n",
       "      <td>https://www.oddsportal.com/soccer/brazil/serie...</td>\n",
       "      <td>1559512800</td>\n",
       "      <td>1559518200</td>\n",
       "      <td>Athletico-PR</td>\n",
       "      <td>Fluminense</td>\n",
       "      <td>3.0</td>\n",
       "      <td>0.0</td>\n",
       "      <td>TEAM1</td>\n",
       "      <td>1.64</td>\n",
       "      <td>5.39</td>\n",
       "      <td>3.77</td>\n",
       "    </tr>\n",
       "    <tr>\n",
       "      <th>4</th>\n",
       "      <td>Serie A</td>\n",
       "      <td>Brazil</td>\n",
       "      <td>https://www.oddsportal.com/soccer/brazil/serie...</td>\n",
       "      <td>1559512800</td>\n",
       "      <td>1559518200</td>\n",
       "      <td>Ceara</td>\n",
       "      <td>Santos</td>\n",
       "      <td>0.0</td>\n",
       "      <td>1.0</td>\n",
       "      <td>TEAM2</td>\n",
       "      <td>2.69</td>\n",
       "      <td>2.65</td>\n",
       "      <td>3.16</td>\n",
       "    </tr>\n",
       "  </tbody>\n",
       "</table>\n",
       "</div>"
      ],
      "text/plain": [
       "    league    area                                 retrieved_from_url  \\\n",
       "0  Serie A  Brazil  https://www.oddsportal.com/soccer/brazil/serie...   \n",
       "1  Serie A  Brazil  https://www.oddsportal.com/soccer/brazil/serie...   \n",
       "2  Serie A  Brazil  https://www.oddsportal.com/soccer/brazil/serie...   \n",
       "3  Serie A  Brazil  https://www.oddsportal.com/soccer/brazil/serie...   \n",
       "4  Serie A  Brazil  https://www.oddsportal.com/soccer/brazil/serie...   \n",
       "\n",
       "   start_time    end_time           team1       team2  team1_score  \\\n",
       "0  1559523600  1559529000     Atletico-MG         CSA          4.0   \n",
       "1  1559523600  1559529000  Chapecoense-SC   Palmeiras          1.0   \n",
       "2  1559523600  1559529000   Internacional        Avai          2.0   \n",
       "3  1559512800  1559518200    Athletico-PR  Fluminense          3.0   \n",
       "4  1559512800  1559518200           Ceara      Santos          0.0   \n",
       "\n",
       "   team2_score outcome team1_odds team2_odds draw_odds  \n",
       "0          0.0   TEAM1       1.41       7.98      4.31  \n",
       "1          2.0   TEAM2       5.92       1.63      3.51  \n",
       "2          0.0   TEAM1       1.43       8.22      4.15  \n",
       "3          0.0   TEAM1       1.64       5.39      3.77  \n",
       "4          1.0   TEAM2       2.69       2.65      3.16  "
      ]
     },
     "execution_count": 2,
     "metadata": {},
     "output_type": "execute_result"
    }
   ],
   "source": [
    "data = pd.read_csv(join(DATAFOLDER, 'matches-Brazil.csv'))\n",
    "data.head()"
   ]
  },
  {
   "cell_type": "code",
   "execution_count": 3,
   "metadata": {},
   "outputs": [
    {
     "name": "stdout",
     "output_type": "stream",
     "text": [
      "<class 'pandas.core.frame.DataFrame'>\n",
      "RangeIndex: 6412 entries, 0 to 6411\n",
      "Data columns (total 13 columns):\n",
      "league                6412 non-null object\n",
      "area                  6412 non-null object\n",
      "retrieved_from_url    6412 non-null object\n",
      "start_time            6412 non-null int64\n",
      "end_time              6412 non-null int64\n",
      "team1                 6412 non-null object\n",
      "team2                 6412 non-null object\n",
      "team1_score           6411 non-null float64\n",
      "team2_score           6411 non-null float64\n",
      "outcome               6412 non-null object\n",
      "team1_odds            6412 non-null object\n",
      "team2_odds            6412 non-null object\n",
      "draw_odds             6412 non-null object\n",
      "dtypes: float64(2), int64(2), object(9)\n",
      "memory usage: 651.3+ KB\n"
     ]
    }
   ],
   "source": [
    "data.info()"
   ]
  },
  {
   "cell_type": "markdown",
   "metadata": {},
   "source": [
    "Check for NaN entries"
   ]
  },
  {
   "cell_type": "code",
   "execution_count": 4,
   "metadata": {},
   "outputs": [
    {
     "data": {
      "text/plain": [
       "(6411, 13)"
      ]
     },
     "execution_count": 4,
     "metadata": {},
     "output_type": "execute_result"
    }
   ],
   "source": [
    "data_dropped = data.dropna()\n",
    "data_dropped.shape"
   ]
  },
  {
   "cell_type": "markdown",
   "metadata": {},
   "source": [
    "# UTC data to readable data"
   ]
  },
  {
   "cell_type": "code",
   "execution_count": 5,
   "metadata": {},
   "outputs": [],
   "source": [
    "def utc2time(d):\n",
    "    return datetime.utcfromtimestamp(d).strftime('%Y-%m-%d %H:%M:%S')"
   ]
  },
  {
   "cell_type": "code",
   "execution_count": 6,
   "metadata": {},
   "outputs": [],
   "source": [
    "data.start_time = data_dropped.start_time.apply(utc2time)\n",
    "data.end_time = data_dropped.end_time.apply(utc2time)"
   ]
  },
  {
   "cell_type": "markdown",
   "metadata": {},
   "source": [
    "### Sort data"
   ]
  },
  {
   "cell_type": "code",
   "execution_count": 7,
   "metadata": {},
   "outputs": [
    {
     "data": {
      "text/html": [
       "<div>\n",
       "<style scoped>\n",
       "    .dataframe tbody tr th:only-of-type {\n",
       "        vertical-align: middle;\n",
       "    }\n",
       "\n",
       "    .dataframe tbody tr th {\n",
       "        vertical-align: top;\n",
       "    }\n",
       "\n",
       "    .dataframe thead th {\n",
       "        text-align: right;\n",
       "    }\n",
       "</style>\n",
       "<table border=\"1\" class=\"dataframe\">\n",
       "  <thead>\n",
       "    <tr style=\"text-align: right;\">\n",
       "      <th></th>\n",
       "      <th>league</th>\n",
       "      <th>area</th>\n",
       "      <th>retrieved_from_url</th>\n",
       "      <th>start_time</th>\n",
       "      <th>end_time</th>\n",
       "      <th>team1</th>\n",
       "      <th>team2</th>\n",
       "      <th>team1_score</th>\n",
       "      <th>team2_score</th>\n",
       "      <th>outcome</th>\n",
       "      <th>team1_odds</th>\n",
       "      <th>team2_odds</th>\n",
       "      <th>draw_odds</th>\n",
       "    </tr>\n",
       "  </thead>\n",
       "  <tbody>\n",
       "    <tr>\n",
       "      <th>6029</th>\n",
       "      <td>Serie A</td>\n",
       "      <td>Brazil</td>\n",
       "      <td>https://www.oddsportal.com/soccer/brazil/serie...</td>\n",
       "      <td>2004-04-21 22:00:00</td>\n",
       "      <td>2004-04-21 23:30:00</td>\n",
       "      <td>Botafogo RJ</td>\n",
       "      <td>Goias</td>\n",
       "      <td>1.0</td>\n",
       "      <td>4.0</td>\n",
       "      <td>TEAM2</td>\n",
       "      <td>1.9</td>\n",
       "      <td>3.64</td>\n",
       "      <td>3.2</td>\n",
       "    </tr>\n",
       "    <tr>\n",
       "      <th>6030</th>\n",
       "      <td>Serie A</td>\n",
       "      <td>Brazil</td>\n",
       "      <td>https://www.oddsportal.com/soccer/brazil/serie...</td>\n",
       "      <td>2004-04-21 22:00:00</td>\n",
       "      <td>2004-04-21 23:30:00</td>\n",
       "      <td>Figueirense</td>\n",
       "      <td>Internacional</td>\n",
       "      <td>1.0</td>\n",
       "      <td>0.0</td>\n",
       "      <td>TEAM1</td>\n",
       "      <td>2.1</td>\n",
       "      <td>3.15</td>\n",
       "      <td>3.17</td>\n",
       "    </tr>\n",
       "    <tr>\n",
       "      <th>6031</th>\n",
       "      <td>Serie A</td>\n",
       "      <td>Brazil</td>\n",
       "      <td>https://www.oddsportal.com/soccer/brazil/serie...</td>\n",
       "      <td>2004-04-21 22:00:00</td>\n",
       "      <td>2004-04-21 23:30:00</td>\n",
       "      <td>Sao Caetano</td>\n",
       "      <td>Vitoria</td>\n",
       "      <td>1.0</td>\n",
       "      <td>0.0</td>\n",
       "      <td>TEAM1</td>\n",
       "      <td>1.5</td>\n",
       "      <td>6.17</td>\n",
       "      <td>3.48</td>\n",
       "    </tr>\n",
       "    <tr>\n",
       "      <th>6027</th>\n",
       "      <td>Serie A</td>\n",
       "      <td>Brazil</td>\n",
       "      <td>https://www.oddsportal.com/soccer/brazil/serie...</td>\n",
       "      <td>2004-04-22 00:00:00</td>\n",
       "      <td>2004-04-22 01:30:00</td>\n",
       "      <td>Cruzeiro</td>\n",
       "      <td>Juventude</td>\n",
       "      <td>2.0</td>\n",
       "      <td>1.0</td>\n",
       "      <td>TEAM1</td>\n",
       "      <td>1.33</td>\n",
       "      <td>-</td>\n",
       "      <td>4.18</td>\n",
       "    </tr>\n",
       "    <tr>\n",
       "      <th>6028</th>\n",
       "      <td>Serie A</td>\n",
       "      <td>Brazil</td>\n",
       "      <td>https://www.oddsportal.com/soccer/brazil/serie...</td>\n",
       "      <td>2004-04-22 00:00:00</td>\n",
       "      <td>2004-04-22 01:30:00</td>\n",
       "      <td>Palmeiras</td>\n",
       "      <td>Atletico-MG</td>\n",
       "      <td>0.0</td>\n",
       "      <td>0.0</td>\n",
       "      <td>DRAW</td>\n",
       "      <td>1.95</td>\n",
       "      <td>3.6</td>\n",
       "      <td>3.25</td>\n",
       "    </tr>\n",
       "  </tbody>\n",
       "</table>\n",
       "</div>"
      ],
      "text/plain": [
       "       league    area                                 retrieved_from_url  \\\n",
       "6029  Serie A  Brazil  https://www.oddsportal.com/soccer/brazil/serie...   \n",
       "6030  Serie A  Brazil  https://www.oddsportal.com/soccer/brazil/serie...   \n",
       "6031  Serie A  Brazil  https://www.oddsportal.com/soccer/brazil/serie...   \n",
       "6027  Serie A  Brazil  https://www.oddsportal.com/soccer/brazil/serie...   \n",
       "6028  Serie A  Brazil  https://www.oddsportal.com/soccer/brazil/serie...   \n",
       "\n",
       "               start_time             end_time        team1          team2  \\\n",
       "6029  2004-04-21 22:00:00  2004-04-21 23:30:00  Botafogo RJ          Goias   \n",
       "6030  2004-04-21 22:00:00  2004-04-21 23:30:00  Figueirense  Internacional   \n",
       "6031  2004-04-21 22:00:00  2004-04-21 23:30:00  Sao Caetano        Vitoria   \n",
       "6027  2004-04-22 00:00:00  2004-04-22 01:30:00     Cruzeiro      Juventude   \n",
       "6028  2004-04-22 00:00:00  2004-04-22 01:30:00    Palmeiras    Atletico-MG   \n",
       "\n",
       "      team1_score  team2_score outcome team1_odds team2_odds draw_odds  \n",
       "6029          1.0          4.0   TEAM2        1.9       3.64       3.2  \n",
       "6030          1.0          0.0   TEAM1        2.1       3.15      3.17  \n",
       "6031          1.0          0.0   TEAM1        1.5       6.17      3.48  \n",
       "6027          2.0          1.0   TEAM1       1.33          -      4.18  \n",
       "6028          0.0          0.0    DRAW       1.95        3.6      3.25  "
      ]
     },
     "execution_count": 7,
     "metadata": {},
     "output_type": "execute_result"
    }
   ],
   "source": [
    "data.sort_values(by='start_time', inplace=True)\n",
    "data.head()"
   ]
  },
  {
   "cell_type": "code",
   "execution_count": 8,
   "metadata": {},
   "outputs": [],
   "source": [
    "idx = data['start_time'] < '2018'\n",
    "data_until2018 = data.loc[idx]\n",
    "data_from2018 = data.drop(data_until2018.index)"
   ]
  },
  {
   "cell_type": "code",
   "execution_count": 9,
   "metadata": {},
   "outputs": [
    {
     "data": {
      "text/plain": [
       "(450, 13)"
      ]
     },
     "execution_count": 9,
     "metadata": {},
     "output_type": "execute_result"
    }
   ],
   "source": [
    "data_from2018.shape"
   ]
  },
  {
   "cell_type": "code",
   "execution_count": 10,
   "metadata": {},
   "outputs": [
    {
     "data": {
      "text/plain": [
       "(5962, 13)"
      ]
     },
     "execution_count": 10,
     "metadata": {},
     "output_type": "execute_result"
    }
   ],
   "source": [
    "data_until2018.shape"
   ]
  },
  {
   "cell_type": "code",
   "execution_count": 11,
   "metadata": {},
   "outputs": [
    {
     "data": {
      "text/plain": [
       "(6412, 13)"
      ]
     },
     "execution_count": 11,
     "metadata": {},
     "output_type": "execute_result"
    }
   ],
   "source": [
    "data.shape"
   ]
  },
  {
   "cell_type": "markdown",
   "metadata": {},
   "source": [
    "# Overall data analyses"
   ]
  },
  {
   "cell_type": "markdown",
   "metadata": {},
   "source": [
    "Let us take a look how many teams are in this database"
   ]
  },
  {
   "cell_type": "code",
   "execution_count": 12,
   "metadata": {},
   "outputs": [
    {
     "data": {
      "text/plain": [
       "array(['Cruzeiro', 'Vitoria', 'Santos', 'America MG', 'Vasco',\n",
       "       'Internacional', 'Corinthians', 'Athletico-PR', 'Sao Paulo',\n",
       "       'Botafogo RJ', 'Bahia', 'Flamengo RJ', 'Parana', 'Chapecoense-SC',\n",
       "       'Ceara', 'Atletico-MG', 'Palmeiras', 'Fluminense', 'Gremio',\n",
       "       'Sport Recife', 'CSA', 'Avai', 'Fortaleza', 'Goias', 'Gremio',\n",
       "       'Flamengo RJ', 'Ceara', 'Sport Recife', 'Atletico-MG', 'Bahia',\n",
       "       'Fluminense', 'Chapecoense-SC', 'Parana', 'Palmeiras', 'Santos',\n",
       "       'America MG', 'Corinthians', 'Vasco', 'Sao Paulo', 'Vitoria',\n",
       "       'Internacional', 'Cruzeiro', 'Athletico-PR', 'Botafogo RJ', 'Avai',\n",
       "       'CSA', 'Goias', 'Fortaleza'], dtype=object)"
      ]
     },
     "execution_count": 12,
     "metadata": {},
     "output_type": "execute_result"
    }
   ],
   "source": [
    "teams1 = data_from2018['team1'].unique()\n",
    "teams2 = data_from2018['team2'].unique()\n",
    "all_teams = np.append(teams1, teams2)\n",
    "all_teams"
   ]
  },
  {
   "cell_type": "code",
   "execution_count": 13,
   "metadata": {},
   "outputs": [
    {
     "data": {
      "text/plain": [
       "array(['America MG', 'Athletico-PR', 'Atletico-MG', 'Avai', 'Bahia',\n",
       "       'Botafogo RJ', 'CSA', 'Ceara', 'Chapecoense-SC', 'Corinthians',\n",
       "       'Cruzeiro', 'Flamengo RJ', 'Fluminense', 'Fortaleza', 'Goias',\n",
       "       'Gremio', 'Internacional', 'Palmeiras', 'Parana', 'Santos',\n",
       "       'Sao Paulo', 'Sport Recife', 'Vasco', 'Vitoria'], dtype=object)"
      ]
     },
     "execution_count": 13,
     "metadata": {},
     "output_type": "execute_result"
    }
   ],
   "source": [
    "all_teams = np.unique(all_teams)\n",
    "all_teams"
   ]
  },
  {
   "cell_type": "code",
   "execution_count": 14,
   "metadata": {},
   "outputs": [
    {
     "data": {
      "text/plain": [
       "(24,)"
      ]
     },
     "execution_count": 14,
     "metadata": {},
     "output_type": "execute_result"
    }
   ],
   "source": [
    "all_teams.shape"
   ]
  },
  {
   "cell_type": "markdown",
   "metadata": {},
   "source": [
    "There are 24 teams that participate in league up to 2018. Let's take a look on:\n",
    "- How many matches which teams has been participated."
   ]
  },
  {
   "cell_type": "code",
   "execution_count": 15,
   "metadata": {},
   "outputs": [],
   "source": [
    "def set_year(date_str):\n",
    "    date = datetime.strptime(date_str, '%Y-%m-%d %H:%M:%S')\n",
    "    return date.year"
   ]
  },
  {
   "cell_type": "code",
   "execution_count": 16,
   "metadata": {},
   "outputs": [
    {
     "name": "stderr",
     "output_type": "stream",
     "text": [
      "/home/navar/.local/lib/python3.6/site-packages/ipykernel_launcher.py:1: SettingWithCopyWarning: \n",
      "A value is trying to be set on a copy of a slice from a DataFrame.\n",
      "Try using .loc[row_indexer,col_indexer] = value instead\n",
      "\n",
      "See the caveats in the documentation: http://pandas.pydata.org/pandas-docs/stable/indexing.html#indexing-view-versus-copy\n",
      "  \"\"\"Entry point for launching an IPython kernel.\n"
     ]
    }
   ],
   "source": [
    "data_until2018['year'] = data_until2018['start_time'].apply(set_year)"
   ]
  },
  {
   "cell_type": "code",
   "execution_count": 17,
   "metadata": {},
   "outputs": [],
   "source": [
    "data_team_by_year = data_until2018.groupby(by=['year', 'team1']).team1.count()"
   ]
  },
  {
   "cell_type": "code",
   "execution_count": 18,
   "metadata": {},
   "outputs": [
    {
     "data": {
      "text/plain": [
       "year  team1       \n",
       "2004  Athletico-PR    23\n",
       "      Atletico-MG     22\n",
       "      Botafogo RJ     23\n",
       "      Corinthians     23\n",
       "      Coritiba        23\n",
       "Name: team1, dtype: int64"
      ]
     },
     "execution_count": 18,
     "metadata": {},
     "output_type": "execute_result"
    }
   ],
   "source": [
    "data_team_by_year.head()"
   ]
  },
  {
   "cell_type": "code",
   "execution_count": 19,
   "metadata": {},
   "outputs": [
    {
     "data": {
      "text/plain": [
       "<matplotlib.axes._subplots.AxesSubplot at 0x7f757e6a3a20>"
      ]
     },
     "execution_count": 19,
     "metadata": {},
     "output_type": "execute_result"
    },
    {
     "data": {
      "image/png": "[encoded data removed]",
      "text/plain": [
       "<Figure size 432x288 with 1 Axes>"
      ]
     },
     "metadata": {
      "needs_background": "light"
     },
     "output_type": "display_data"
    }
   ],
   "source": [
    "data_team_by_year.loc[2004].plot()"
   ]
  },
  {
   "cell_type": "markdown",
   "metadata": {},
   "source": [
    "In a give year all team attent to the same number o matches."
   ]
  },
  {
   "cell_type": "code",
   "execution_count": 20,
   "metadata": {},
   "outputs": [
    {
     "data": {
      "text/html": [
       "<div>\n",
       "<style scoped>\n",
       "    .dataframe tbody tr th:only-of-type {\n",
       "        vertical-align: middle;\n",
       "    }\n",
       "\n",
       "    .dataframe tbody tr th {\n",
       "        vertical-align: top;\n",
       "    }\n",
       "\n",
       "    .dataframe thead th {\n",
       "        text-align: right;\n",
       "    }\n",
       "</style>\n",
       "<table border=\"1\" class=\"dataframe\">\n",
       "  <thead>\n",
       "    <tr style=\"text-align: right;\">\n",
       "      <th></th>\n",
       "      <th>league</th>\n",
       "      <th>area</th>\n",
       "      <th>retrieved_from_url</th>\n",
       "      <th>start_time</th>\n",
       "      <th>end_time</th>\n",
       "      <th>team1</th>\n",
       "      <th>team2</th>\n",
       "      <th>team1_score</th>\n",
       "      <th>team2_score</th>\n",
       "      <th>outcome</th>\n",
       "      <th>team1_odds</th>\n",
       "      <th>team2_odds</th>\n",
       "      <th>draw_odds</th>\n",
       "      <th>year</th>\n",
       "    </tr>\n",
       "  </thead>\n",
       "  <tbody>\n",
       "    <tr>\n",
       "      <th>3518</th>\n",
       "      <td>Serie A</td>\n",
       "      <td>Brazil</td>\n",
       "      <td>https://www.oddsportal.com/soccer/brazil/serie...</td>\n",
       "      <td>2010-05-09 00:30:00</td>\n",
       "      <td>2010-05-09 02:00:00</td>\n",
       "      <td>Palmeiras</td>\n",
       "      <td>Vitoria</td>\n",
       "      <td>1.0</td>\n",
       "      <td>0.0</td>\n",
       "      <td>TEAM1</td>\n",
       "      <td>1.6</td>\n",
       "      <td>5.5</td>\n",
       "      <td>3.7</td>\n",
       "      <td>2010</td>\n",
       "    </tr>\n",
       "    <tr>\n",
       "      <th>3517</th>\n",
       "      <td>Serie A</td>\n",
       "      <td>Brazil</td>\n",
       "      <td>https://www.oddsportal.com/soccer/brazil/serie...</td>\n",
       "      <td>2010-05-09 00:30:00</td>\n",
       "      <td>2010-05-09 02:00:00</td>\n",
       "      <td>Botafogo RJ</td>\n",
       "      <td>Santos</td>\n",
       "      <td>3.0</td>\n",
       "      <td>3.0</td>\n",
       "      <td>DRAW</td>\n",
       "      <td>2.36</td>\n",
       "      <td>2.79</td>\n",
       "      <td>3.34</td>\n",
       "      <td>2010</td>\n",
       "    </tr>\n",
       "    <tr>\n",
       "      <th>3516</th>\n",
       "      <td>Serie A</td>\n",
       "      <td>Brazil</td>\n",
       "      <td>https://www.oddsportal.com/soccer/brazil/serie...</td>\n",
       "      <td>2010-05-09 00:30:00</td>\n",
       "      <td>2010-05-09 02:00:00</td>\n",
       "      <td>Atletico GO</td>\n",
       "      <td>Gremio</td>\n",
       "      <td>0.0</td>\n",
       "      <td>0.0</td>\n",
       "      <td>DRAW</td>\n",
       "      <td>2.23</td>\n",
       "      <td>3.06</td>\n",
       "      <td>3.32</td>\n",
       "      <td>2010</td>\n",
       "    </tr>\n",
       "    <tr>\n",
       "      <th>6411</th>\n",
       "      <td>Serie A</td>\n",
       "      <td>Brazil</td>\n",
       "      <td>https://www.oddsportal.com/soccer/brazil/serie...</td>\n",
       "      <td>2010-05-09 00:30:00</td>\n",
       "      <td>2010-05-09 02:00:00</td>\n",
       "      <td>Palmeiras</td>\n",
       "      <td>Vitoria</td>\n",
       "      <td>1.0</td>\n",
       "      <td>0.0</td>\n",
       "      <td>TEAM1</td>\n",
       "      <td>1.6</td>\n",
       "      <td>5.5</td>\n",
       "      <td>3.7</td>\n",
       "      <td>2010</td>\n",
       "    </tr>\n",
       "    <tr>\n",
       "      <th>6409</th>\n",
       "      <td>Serie A</td>\n",
       "      <td>Brazil</td>\n",
       "      <td>https://www.oddsportal.com/soccer/brazil/serie...</td>\n",
       "      <td>2010-05-09 00:30:00</td>\n",
       "      <td>2010-05-09 02:00:00</td>\n",
       "      <td>Atletico GO</td>\n",
       "      <td>Gremio</td>\n",
       "      <td>0.0</td>\n",
       "      <td>0.0</td>\n",
       "      <td>DRAW</td>\n",
       "      <td>2.23</td>\n",
       "      <td>3.06</td>\n",
       "      <td>3.32</td>\n",
       "      <td>2010</td>\n",
       "    </tr>\n",
       "  </tbody>\n",
       "</table>\n",
       "</div>"
      ],
      "text/plain": [
       "       league    area                                 retrieved_from_url  \\\n",
       "3518  Serie A  Brazil  https://www.oddsportal.com/soccer/brazil/serie...   \n",
       "3517  Serie A  Brazil  https://www.oddsportal.com/soccer/brazil/serie...   \n",
       "3516  Serie A  Brazil  https://www.oddsportal.com/soccer/brazil/serie...   \n",
       "6411  Serie A  Brazil  https://www.oddsportal.com/soccer/brazil/serie...   \n",
       "6409  Serie A  Brazil  https://www.oddsportal.com/soccer/brazil/serie...   \n",
       "\n",
       "               start_time             end_time        team1    team2  \\\n",
       "3518  2010-05-09 00:30:00  2010-05-09 02:00:00    Palmeiras  Vitoria   \n",
       "3517  2010-05-09 00:30:00  2010-05-09 02:00:00  Botafogo RJ   Santos   \n",
       "3516  2010-05-09 00:30:00  2010-05-09 02:00:00  Atletico GO   Gremio   \n",
       "6411  2010-05-09 00:30:00  2010-05-09 02:00:00    Palmeiras  Vitoria   \n",
       "6409  2010-05-09 00:30:00  2010-05-09 02:00:00  Atletico GO   Gremio   \n",
       "\n",
       "      team1_score  team2_score outcome team1_odds team2_odds draw_odds  year  \n",
       "3518          1.0          0.0   TEAM1        1.6        5.5       3.7  2010  \n",
       "3517          3.0          3.0    DRAW       2.36       2.79      3.34  2010  \n",
       "3516          0.0          0.0    DRAW       2.23       3.06      3.32  2010  \n",
       "6411          1.0          0.0   TEAM1        1.6        5.5       3.7  2010  \n",
       "6409          0.0          0.0    DRAW       2.23       3.06      3.32  2010  "
      ]
     },
     "execution_count": 20,
     "metadata": {},
     "output_type": "execute_result"
    }
   ],
   "source": [
    "gb_year = data_until2018.groupby(by='year')\n",
    "gb_year.get_group(2010).head()"
   ]
  },
  {
   "cell_type": "code",
   "execution_count": 67,
   "metadata": {},
   "outputs": [
    {
     "data": {
      "text/html": [
       "<div>\n",
       "<style scoped>\n",
       "    .dataframe tbody tr th:only-of-type {\n",
       "        vertical-align: middle;\n",
       "    }\n",
       "\n",
       "    .dataframe tbody tr th {\n",
       "        vertical-align: top;\n",
       "    }\n",
       "\n",
       "    .dataframe thead th {\n",
       "        text-align: right;\n",
       "    }\n",
       "</style>\n",
       "<table border=\"1\" class=\"dataframe\">\n",
       "  <thead>\n",
       "    <tr style=\"text-align: right;\">\n",
       "      <th>outcome</th>\n",
       "      <th>DRAW</th>\n",
       "      <th>TEAM1</th>\n",
       "      <th>TEAM2</th>\n",
       "    </tr>\n",
       "    <tr>\n",
       "      <th>year</th>\n",
       "      <th></th>\n",
       "      <th></th>\n",
       "      <th></th>\n",
       "    </tr>\n",
       "  </thead>\n",
       "  <tbody>\n",
       "    <tr>\n",
       "      <th>2004</th>\n",
       "      <td>139</td>\n",
       "      <td>283</td>\n",
       "      <td>122</td>\n",
       "    </tr>\n",
       "    <tr>\n",
       "      <th>2005</th>\n",
       "      <td>102</td>\n",
       "      <td>230</td>\n",
       "      <td>121</td>\n",
       "    </tr>\n",
       "    <tr>\n",
       "      <th>2006</th>\n",
       "      <td>96</td>\n",
       "      <td>191</td>\n",
       "      <td>92</td>\n",
       "    </tr>\n",
       "    <tr>\n",
       "      <th>2007</th>\n",
       "      <td>90</td>\n",
       "      <td>190</td>\n",
       "      <td>97</td>\n",
       "    </tr>\n",
       "    <tr>\n",
       "      <th>2008</th>\n",
       "      <td>96</td>\n",
       "      <td>208</td>\n",
       "      <td>76</td>\n",
       "    </tr>\n",
       "    <tr>\n",
       "      <th>2009</th>\n",
       "      <td>102</td>\n",
       "      <td>195</td>\n",
       "      <td>83</td>\n",
       "    </tr>\n",
       "    <tr>\n",
       "      <th>2010</th>\n",
       "      <td>236</td>\n",
       "      <td>358</td>\n",
       "      <td>166</td>\n",
       "    </tr>\n",
       "    <tr>\n",
       "      <th>2011</th>\n",
       "      <td>105</td>\n",
       "      <td>184</td>\n",
       "      <td>91</td>\n",
       "    </tr>\n",
       "    <tr>\n",
       "      <th>2012</th>\n",
       "      <td>105</td>\n",
       "      <td>183</td>\n",
       "      <td>92</td>\n",
       "    </tr>\n",
       "    <tr>\n",
       "      <th>2013</th>\n",
       "      <td>108</td>\n",
       "      <td>184</td>\n",
       "      <td>88</td>\n",
       "    </tr>\n",
       "    <tr>\n",
       "      <th>2014</th>\n",
       "      <td>92</td>\n",
       "      <td>197</td>\n",
       "      <td>91</td>\n",
       "    </tr>\n",
       "    <tr>\n",
       "      <th>2015</th>\n",
       "      <td>93</td>\n",
       "      <td>202</td>\n",
       "      <td>85</td>\n",
       "    </tr>\n",
       "    <tr>\n",
       "      <th>2016</th>\n",
       "      <td>105</td>\n",
       "      <td>217</td>\n",
       "      <td>87</td>\n",
       "    </tr>\n",
       "    <tr>\n",
       "      <th>2017</th>\n",
       "      <td>103</td>\n",
       "      <td>167</td>\n",
       "      <td>110</td>\n",
       "    </tr>\n",
       "  </tbody>\n",
       "</table>\n",
       "</div>"
      ],
      "text/plain": [
       "outcome  DRAW  TEAM1  TEAM2\n",
       "year                       \n",
       "2004      139    283    122\n",
       "2005      102    230    121\n",
       "2006       96    191     92\n",
       "2007       90    190     97\n",
       "2008       96    208     76\n",
       "2009      102    195     83\n",
       "2010      236    358    166\n",
       "2011      105    184     91\n",
       "2012      105    183     92\n",
       "2013      108    184     88\n",
       "2014       92    197     91\n",
       "2015       93    202     85\n",
       "2016      105    217     87\n",
       "2017      103    167    110"
      ]
     },
     "execution_count": 67,
     "metadata": {},
     "output_type": "execute_result"
    }
   ],
   "source": [
    "count_outcome_by_year = gb_year.outcome.value_counts().unstack()\n",
    "count_outcome_by_year"
   ]
  },
  {
   "cell_type": "code",
   "execution_count": 68,
   "metadata": {},
   "outputs": [
    {
     "data": {
      "text/plain": [
       "<matplotlib.axes._subplots.AxesSubplot at 0x7f757ab9c208>"
      ]
     },
     "execution_count": 68,
     "metadata": {},
     "output_type": "execute_result"
    },
    {
     "data": {
      "image/png": "[encoded data removed]",
      "text/plain": [
       "<Figure size 1152x432 with 1 Axes>"
      ]
     },
     "metadata": {
      "needs_background": "light"
     },
     "output_type": "display_data"
    }
   ],
   "source": [
    "count_outcome_by_year.plot(kind='barh', stacked=True, figsize=[16,6], colormap='winter')"
   ]
  },
  {
   "cell_type": "markdown",
   "metadata": {},
   "source": [
    "We can see that the number of matches that resulted in `DRAW` tend to be the same over a 7 year period. "
   ]
  },
  {
   "cell_type": "code",
   "execution_count": 70,
   "metadata": {},
   "outputs": [
    {
     "data": {
      "text/html": [
       "<div>\n",
       "<style scoped>\n",
       "    .dataframe tbody tr th:only-of-type {\n",
       "        vertical-align: middle;\n",
       "    }\n",
       "\n",
       "    .dataframe tbody tr th {\n",
       "        vertical-align: top;\n",
       "    }\n",
       "\n",
       "    .dataframe thead th {\n",
       "        text-align: right;\n",
       "    }\n",
       "</style>\n",
       "<table border=\"1\" class=\"dataframe\">\n",
       "  <thead>\n",
       "    <tr style=\"text-align: right;\">\n",
       "      <th>outcome</th>\n",
       "      <th>DRAW</th>\n",
       "      <th>TEAM1</th>\n",
       "      <th>TEAM2</th>\n",
       "    </tr>\n",
       "  </thead>\n",
       "  <tbody>\n",
       "    <tr>\n",
       "      <th>count</th>\n",
       "      <td>14.000000</td>\n",
       "      <td>14.000000</td>\n",
       "      <td>14.000000</td>\n",
       "    </tr>\n",
       "    <tr>\n",
       "      <th>mean</th>\n",
       "      <td>112.285714</td>\n",
       "      <td>213.500000</td>\n",
       "      <td>100.071429</td>\n",
       "    </tr>\n",
       "    <tr>\n",
       "      <th>std</th>\n",
       "      <td>37.524205</td>\n",
       "      <td>50.125611</td>\n",
       "      <td>23.341822</td>\n",
       "    </tr>\n",
       "    <tr>\n",
       "      <th>min</th>\n",
       "      <td>90.000000</td>\n",
       "      <td>167.000000</td>\n",
       "      <td>76.000000</td>\n",
       "    </tr>\n",
       "    <tr>\n",
       "      <th>25%</th>\n",
       "      <td>96.000000</td>\n",
       "      <td>185.500000</td>\n",
       "      <td>87.250000</td>\n",
       "    </tr>\n",
       "    <tr>\n",
       "      <th>50%</th>\n",
       "      <td>102.500000</td>\n",
       "      <td>196.000000</td>\n",
       "      <td>91.500000</td>\n",
       "    </tr>\n",
       "    <tr>\n",
       "      <th>75%</th>\n",
       "      <td>105.000000</td>\n",
       "      <td>214.750000</td>\n",
       "      <td>106.750000</td>\n",
       "    </tr>\n",
       "    <tr>\n",
       "      <th>max</th>\n",
       "      <td>236.000000</td>\n",
       "      <td>358.000000</td>\n",
       "      <td>166.000000</td>\n",
       "    </tr>\n",
       "  </tbody>\n",
       "</table>\n",
       "</div>"
      ],
      "text/plain": [
       "outcome        DRAW       TEAM1       TEAM2\n",
       "count     14.000000   14.000000   14.000000\n",
       "mean     112.285714  213.500000  100.071429\n",
       "std       37.524205   50.125611   23.341822\n",
       "min       90.000000  167.000000   76.000000\n",
       "25%       96.000000  185.500000   87.250000\n",
       "50%      102.500000  196.000000   91.500000\n",
       "75%      105.000000  214.750000  106.750000\n",
       "max      236.000000  358.000000  166.000000"
      ]
     },
     "execution_count": 70,
     "metadata": {},
     "output_type": "execute_result"
    }
   ],
   "source": [
    "count_outcome_by_year.describe()"
   ]
  },
  {
   "cell_type": "code",
   "execution_count": 71,
   "metadata": {},
   "outputs": [],
   "source": [
    "def matches_percentage(row):\n",
    "    return row / row.sum()"
   ]
  },
  {
   "cell_type": "code",
   "execution_count": 72,
   "metadata": {},
   "outputs": [],
   "source": [
    "for idx, row in count_outcome_by_year.iterrows():\n",
    "    count_outcome_by_year.loc[idx] = matches_percentage(row)"
   ]
  },
  {
   "cell_type": "code",
   "execution_count": 75,
   "metadata": {},
   "outputs": [
    {
     "data": {
      "text/html": [
       "<div>\n",
       "<style scoped>\n",
       "    .dataframe tbody tr th:only-of-type {\n",
       "        vertical-align: middle;\n",
       "    }\n",
       "\n",
       "    .dataframe tbody tr th {\n",
       "        vertical-align: top;\n",
       "    }\n",
       "\n",
       "    .dataframe thead th {\n",
       "        text-align: right;\n",
       "    }\n",
       "</style>\n",
       "<table border=\"1\" class=\"dataframe\">\n",
       "  <thead>\n",
       "    <tr style=\"text-align: right;\">\n",
       "      <th>outcome</th>\n",
       "      <th>DRAW</th>\n",
       "      <th>TEAM1</th>\n",
       "      <th>TEAM2</th>\n",
       "    </tr>\n",
       "  </thead>\n",
       "  <tbody>\n",
       "    <tr>\n",
       "      <th>count</th>\n",
       "      <td>14.000000</td>\n",
       "      <td>14.000000</td>\n",
       "      <td>14.000000</td>\n",
       "    </tr>\n",
       "    <tr>\n",
       "      <th>mean</th>\n",
       "      <td>0.261125</td>\n",
       "      <td>0.502678</td>\n",
       "      <td>0.236197</td>\n",
       "    </tr>\n",
       "    <tr>\n",
       "      <th>std</th>\n",
       "      <td>0.021832</td>\n",
       "      <td>0.028320</td>\n",
       "      <td>0.023456</td>\n",
       "    </tr>\n",
       "    <tr>\n",
       "      <th>min</th>\n",
       "      <td>0.225166</td>\n",
       "      <td>0.439474</td>\n",
       "      <td>0.200000</td>\n",
       "    </tr>\n",
       "    <tr>\n",
       "      <th>25%</th>\n",
       "      <td>0.246711</td>\n",
       "      <td>0.484211</td>\n",
       "      <td>0.219737</td>\n",
       "    </tr>\n",
       "    <tr>\n",
       "      <th>50%</th>\n",
       "      <td>0.256119</td>\n",
       "      <td>0.505853</td>\n",
       "      <td>0.235526</td>\n",
       "    </tr>\n",
       "    <tr>\n",
       "      <th>75%</th>\n",
       "      <td>0.275000</td>\n",
       "      <td>0.519771</td>\n",
       "      <td>0.242584</td>\n",
       "    </tr>\n",
       "    <tr>\n",
       "      <th>max</th>\n",
       "      <td>0.310526</td>\n",
       "      <td>0.547368</td>\n",
       "      <td>0.289474</td>\n",
       "    </tr>\n",
       "  </tbody>\n",
       "</table>\n",
       "</div>"
      ],
      "text/plain": [
       "outcome       DRAW      TEAM1      TEAM2\n",
       "count    14.000000  14.000000  14.000000\n",
       "mean      0.261125   0.502678   0.236197\n",
       "std       0.021832   0.028320   0.023456\n",
       "min       0.225166   0.439474   0.200000\n",
       "25%       0.246711   0.484211   0.219737\n",
       "50%       0.256119   0.505853   0.235526\n",
       "75%       0.275000   0.519771   0.242584\n",
       "max       0.310526   0.547368   0.289474"
      ]
     },
     "execution_count": 75,
     "metadata": {},
     "output_type": "execute_result"
    }
   ],
   "source": [
    "count_outcome_by_year.describe()"
   ]
  },
  {
   "cell_type": "markdown",
   "metadata": {},
   "source": [
    "About **26%** of matches resulted in `DRAW`"
   ]
  },
  {
   "cell_type": "markdown",
   "metadata": {},
   "source": [
    "But what happened in **2010**?"
   ]
  },
  {
   "cell_type": "code",
   "execution_count": 50,
   "metadata": {},
   "outputs": [
    {
     "data": {
      "text/plain": [
       "<matplotlib.axes._subplots.AxesSubplot at 0x7f757a7efba8>"
      ]
     },
     "execution_count": 50,
     "metadata": {},
     "output_type": "execute_result"
    },
    {
     "data": {
      "image/png": "[encoded data removed]",
      "text/plain": [
       "<Figure size 432x288 with 1 Axes>"
      ]
     },
     "metadata": {
      "needs_background": "light"
     },
     "output_type": "display_data"
    }
   ],
   "source": [
    "(gb_year.outcome.count() / gb_year.outcome.count().max()).plot()"
   ]
  },
  {
   "cell_type": "markdown",
   "metadata": {},
   "source": [
    "In 2010 there were more about **50%** more matches than in other years. Why is that? Is that an outlier? Let us to investigate how many matches team have attend in this year."
   ]
  },
  {
   "cell_type": "code",
   "execution_count": 77,
   "metadata": {},
   "outputs": [],
   "source": [
    "gb_team1 = data_until2018.groupby(by='team1')"
   ]
  },
  {
   "cell_type": "code",
   "execution_count": 22,
   "metadata": {},
   "outputs": [
    {
     "data": {
      "text/plain": [
       "<pandas.core.groupby.generic.DataFrameGroupBy object at 0x7f757c557da0>"
      ]
     },
     "execution_count": 22,
     "metadata": {},
     "output_type": "execute_result"
    }
   ],
   "source": [
    "gb_outcome = data_until2018.groupby(by=['outcome', 'year'])\n",
    "gb_outcome"
   ]
  },
  {
   "cell_type": "code",
   "execution_count": 23,
   "metadata": {},
   "outputs": [
    {
     "data": {
      "text/plain": [
       "<pandas.core.groupby.generic.SeriesGroupBy object at 0x7f757c557390>"
      ]
     },
     "execution_count": 23,
     "metadata": {},
     "output_type": "execute_result"
    }
   ],
   "source": [
    "gb_outcome['team1']"
   ]
  },
  {
   "cell_type": "code",
   "execution_count": 24,
   "metadata": {},
   "outputs": [
    {
     "ename": "KeyError",
     "evalue": "'Palmeiras'",
     "output_type": "error",
     "traceback": [
      "\u001b[0;31m---------------------------------------------------------------------------\u001b[0m",
      "\u001b[0;31mKeyError\u001b[0m                                  Traceback (most recent call last)",
      "\u001b[0;32m<ipython-input-24-f832f891dcab>\u001b[0m in \u001b[0;36m<module>\u001b[0;34m\u001b[0m\n\u001b[1;32m      1\u001b[0m \u001b[0mgb_team1\u001b[0m \u001b[0;34m=\u001b[0m \u001b[0mdata_until2018\u001b[0m\u001b[0;34m.\u001b[0m\u001b[0mgroupby\u001b[0m\u001b[0;34m(\u001b[0m\u001b[0mby\u001b[0m\u001b[0;34m=\u001b[0m\u001b[0;34m'team1'\u001b[0m\u001b[0;34m)\u001b[0m\u001b[0;34m\u001b[0m\u001b[0;34m\u001b[0m\u001b[0m\n\u001b[0;32m----> 2\u001b[0;31m \u001b[0mgb_year\u001b[0m\u001b[0;34m.\u001b[0m\u001b[0mget_group\u001b[0m\u001b[0;34m(\u001b[0m\u001b[0;34m'Palmeiras'\u001b[0m\u001b[0;34m)\u001b[0m\u001b[0;34m.\u001b[0m\u001b[0mhead\u001b[0m\u001b[0;34m(\u001b[0m\u001b[0;34m)\u001b[0m\u001b[0;34m\u001b[0m\u001b[0;34m\u001b[0m\u001b[0m\n\u001b[0m",
      "\u001b[0;32m~/.local/lib/python3.6/site-packages/pandas/core/groupby/groupby.py\u001b[0m in \u001b[0;36mget_group\u001b[0;34m(self, name, obj)\u001b[0m\n\u001b[1;32m    646\u001b[0m         \u001b[0minds\u001b[0m \u001b[0;34m=\u001b[0m \u001b[0mself\u001b[0m\u001b[0;34m.\u001b[0m\u001b[0m_get_index\u001b[0m\u001b[0;34m(\u001b[0m\u001b[0mname\u001b[0m\u001b[0;34m)\u001b[0m\u001b[0;34m\u001b[0m\u001b[0;34m\u001b[0m\u001b[0m\n\u001b[1;32m    647\u001b[0m         \u001b[0;32mif\u001b[0m \u001b[0;32mnot\u001b[0m \u001b[0mlen\u001b[0m\u001b[0;34m(\u001b[0m\u001b[0minds\u001b[0m\u001b[0;34m)\u001b[0m\u001b[0;34m:\u001b[0m\u001b[0;34m\u001b[0m\u001b[0;34m\u001b[0m\u001b[0m\n\u001b[0;32m--> 648\u001b[0;31m             \u001b[0;32mraise\u001b[0m \u001b[0mKeyError\u001b[0m\u001b[0;34m(\u001b[0m\u001b[0mname\u001b[0m\u001b[0;34m)\u001b[0m\u001b[0;34m\u001b[0m\u001b[0;34m\u001b[0m\u001b[0m\n\u001b[0m\u001b[1;32m    649\u001b[0m \u001b[0;34m\u001b[0m\u001b[0m\n\u001b[1;32m    650\u001b[0m         \u001b[0;32mreturn\u001b[0m \u001b[0mobj\u001b[0m\u001b[0;34m.\u001b[0m\u001b[0m_take\u001b[0m\u001b[0;34m(\u001b[0m\u001b[0minds\u001b[0m\u001b[0;34m,\u001b[0m \u001b[0maxis\u001b[0m\u001b[0;34m=\u001b[0m\u001b[0mself\u001b[0m\u001b[0;34m.\u001b[0m\u001b[0maxis\u001b[0m\u001b[0;34m)\u001b[0m\u001b[0;34m\u001b[0m\u001b[0;34m\u001b[0m\u001b[0m\n",
      "\u001b[0;31mKeyError\u001b[0m: 'Palmeiras'"
     ]
    }
   ],
   "source": [
    "gb_team1 = data_until2018.groupby(by='team1')\n",
    "gb_year.get_group('Palmeiras').head()"
   ]
  },
  {
   "cell_type": "code",
   "execution_count": null,
   "metadata": {},
   "outputs": [],
   "source": []
  },
  {
   "cell_type": "code",
   "execution_count": null,
   "metadata": {},
   "outputs": [],
   "source": []
  },
  {
   "cell_type": "code",
   "execution_count": null,
   "metadata": {},
   "outputs": [],
   "source": []
  },
  {
   "cell_type": "code",
   "execution_count": null,
   "metadata": {},
   "outputs": [],
   "source": []
  },
  {
   "cell_type": "code",
   "execution_count": null,
   "metadata": {},
   "outputs": [],
   "source": [
    "data_from2018.groupby('start_time')"
   ]
  },
  {
   "cell_type": "code",
   "execution_count": null,
   "metadata": {},
   "outputs": [],
   "source": [
    "data_from2018.groupby('start_time')"
   ]
  },
  {
   "cell_type": "code",
   "execution_count": null,
   "metadata": {},
   "outputs": [],
   "source": []
  },
  {
   "cell_type": "code",
   "execution_count": null,
   "metadata": {},
   "outputs": [],
   "source": []
  },
  {
   "cell_type": "code",
   "execution_count": null,
   "metadata": {},
   "outputs": [],
   "source": []
  },
  {
   "cell_type": "code",
   "execution_count": null,
   "metadata": {},
   "outputs": [],
   "source": []
  },
  {
   "cell_type": "code",
   "execution_count": null,
   "metadata": {},
   "outputs": [],
   "source": []
  },
  {
   "cell_type": "code",
   "execution_count": null,
   "metadata": {},
   "outputs": [],
   "source": []
  },
  {
   "cell_type": "code",
   "execution_count": null,
   "metadata": {},
   "outputs": [],
   "source": []
  },
  {
   "cell_type": "code",
   "execution_count": null,
   "metadata": {},
   "outputs": [],
   "source": []
  },
  {
   "cell_type": "code",
   "execution_count": null,
   "metadata": {},
   "outputs": [],
   "source": []
  },
  {
   "cell_type": "code",
   "execution_count": null,
   "metadata": {},
   "outputs": [],
   "source": []
  },
  {
   "cell_type": "code",
   "execution_count": null,
   "metadata": {},
   "outputs": [],
   "source": []
  },
  {
   "cell_type": "code",
   "execution_count": null,
   "metadata": {},
   "outputs": [],
   "source": []
  },
  {
   "cell_type": "code",
   "execution_count": null,
   "metadata": {},
   "outputs": [],
   "source": []
  },
  {
   "cell_type": "code",
   "execution_count": null,
   "metadata": {},
   "outputs": [],
   "source": []
  },
  {
   "cell_type": "code",
   "execution_count": null,
   "metadata": {},
   "outputs": [],
   "source": []
  },
  {
   "cell_type": "code",
   "execution_count": null,
   "metadata": {},
   "outputs": [],
   "source": []
  },
  {
   "cell_type": "code",
   "execution_count": null,
   "metadata": {},
   "outputs": [],
   "source": []
  },
  {
   "cell_type": "code",
   "execution_count": null,
   "metadata": {},
   "outputs": [],
   "source": []
  }
 ],
 "metadata": {
  "kernelspec": {
   "display_name": "Python 3",
   "language": "python",
   "name": "python3"
  },
  "language_info": {
   "codemirror_mode": {
    "name": "ipython",
    "version": 3
   },
   "file_extension": ".py",
   "mimetype": "text/x-python",
   "name": "python",
   "nbconvert_exporter": "python",
   "pygments_lexer": "ipython3",
   "version": "3.6.8"
  }
 },
 "nbformat": 4,
 "nbformat_minor": 2
}
