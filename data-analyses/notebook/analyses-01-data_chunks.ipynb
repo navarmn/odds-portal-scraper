{
 "cells": [
  {
   "cell_type": "code",
   "execution_count": 1,
   "metadata": {},
   "outputs": [],
   "source": [
    "import pandas as pd\n",
    "import numpy as np\n",
    "import matplotlib.pyplot as plt\n",
    "import time\n",
    "SEED = int(time.time())\n",
    "\n",
    "import sys\n",
    "sys.path.append('..')\n",
    "\n",
    "from os.path import join\n",
    "from datetime import datetime\n",
    "\n",
    "DATAFOLDER = join('..', 'data')"
   ]
  },
  {
   "cell_type": "markdown",
   "metadata": {},
   "source": [
    "# Load data and get chunks"
   ]
  },
  {
   "cell_type": "code",
   "execution_count": 2,
   "metadata": {},
   "outputs": [
    {
     "data": {
      "text/html": [
       "<div>\n",
       "<style scoped>\n",
       "    .dataframe tbody tr th:only-of-type {\n",
       "        vertical-align: middle;\n",
       "    }\n",
       "\n",
       "    .dataframe tbody tr th {\n",
       "        vertical-align: top;\n",
       "    }\n",
       "\n",
       "    .dataframe thead th {\n",
       "        text-align: right;\n",
       "    }\n",
       "</style>\n",
       "<table border=\"1\" class=\"dataframe\">\n",
       "  <thead>\n",
       "    <tr style=\"text-align: right;\">\n",
       "      <th></th>\n",
       "      <th>league</th>\n",
       "      <th>area</th>\n",
       "      <th>retrieved_from_url</th>\n",
       "      <th>start_time</th>\n",
       "      <th>end_time</th>\n",
       "      <th>team1</th>\n",
       "      <th>team2</th>\n",
       "      <th>team1_score</th>\n",
       "      <th>team2_score</th>\n",
       "      <th>outcome</th>\n",
       "      <th>team1_odds</th>\n",
       "      <th>team2_odds</th>\n",
       "      <th>draw_odds</th>\n",
       "    </tr>\n",
       "  </thead>\n",
       "  <tbody>\n",
       "    <tr>\n",
       "      <th>0</th>\n",
       "      <td>Serie A</td>\n",
       "      <td>Brazil</td>\n",
       "      <td>https://www.oddsportal.com/soccer/brazil/serie...</td>\n",
       "      <td>1559523600</td>\n",
       "      <td>1559529000</td>\n",
       "      <td>Atletico-MG</td>\n",
       "      <td>CSA</td>\n",
       "      <td>4.0</td>\n",
       "      <td>0.0</td>\n",
       "      <td>TEAM1</td>\n",
       "      <td>1.41</td>\n",
       "      <td>7.98</td>\n",
       "      <td>4.31</td>\n",
       "    </tr>\n",
       "    <tr>\n",
       "      <th>1</th>\n",
       "      <td>Serie A</td>\n",
       "      <td>Brazil</td>\n",
       "      <td>https://www.oddsportal.com/soccer/brazil/serie...</td>\n",
       "      <td>1559523600</td>\n",
       "      <td>1559529000</td>\n",
       "      <td>Chapecoense-SC</td>\n",
       "      <td>Palmeiras</td>\n",
       "      <td>1.0</td>\n",
       "      <td>2.0</td>\n",
       "      <td>TEAM2</td>\n",
       "      <td>5.92</td>\n",
       "      <td>1.63</td>\n",
       "      <td>3.51</td>\n",
       "    </tr>\n",
       "    <tr>\n",
       "      <th>2</th>\n",
       "      <td>Serie A</td>\n",
       "      <td>Brazil</td>\n",
       "      <td>https://www.oddsportal.com/soccer/brazil/serie...</td>\n",
       "      <td>1559523600</td>\n",
       "      <td>1559529000</td>\n",
       "      <td>Internacional</td>\n",
       "      <td>Avai</td>\n",
       "      <td>2.0</td>\n",
       "      <td>0.0</td>\n",
       "      <td>TEAM1</td>\n",
       "      <td>1.43</td>\n",
       "      <td>8.22</td>\n",
       "      <td>4.15</td>\n",
       "    </tr>\n",
       "    <tr>\n",
       "      <th>3</th>\n",
       "      <td>Serie A</td>\n",
       "      <td>Brazil</td>\n",
       "      <td>https://www.oddsportal.com/soccer/brazil/serie...</td>\n",
       "      <td>1559512800</td>\n",
       "      <td>1559518200</td>\n",
       "      <td>Athletico-PR</td>\n",
       "      <td>Fluminense</td>\n",
       "      <td>3.0</td>\n",
       "      <td>0.0</td>\n",
       "      <td>TEAM1</td>\n",
       "      <td>1.64</td>\n",
       "      <td>5.39</td>\n",
       "      <td>3.77</td>\n",
       "    </tr>\n",
       "    <tr>\n",
       "      <th>4</th>\n",
       "      <td>Serie A</td>\n",
       "      <td>Brazil</td>\n",
       "      <td>https://www.oddsportal.com/soccer/brazil/serie...</td>\n",
       "      <td>1559512800</td>\n",
       "      <td>1559518200</td>\n",
       "      <td>Ceara</td>\n",
       "      <td>Santos</td>\n",
       "      <td>0.0</td>\n",
       "      <td>1.0</td>\n",
       "      <td>TEAM2</td>\n",
       "      <td>2.69</td>\n",
       "      <td>2.65</td>\n",
       "      <td>3.16</td>\n",
       "    </tr>\n",
       "  </tbody>\n",
       "</table>\n",
       "</div>"
      ],
      "text/plain": [
       "    league    area                                 retrieved_from_url  \\\n",
       "0  Serie A  Brazil  https://www.oddsportal.com/soccer/brazil/serie...   \n",
       "1  Serie A  Brazil  https://www.oddsportal.com/soccer/brazil/serie...   \n",
       "2  Serie A  Brazil  https://www.oddsportal.com/soccer/brazil/serie...   \n",
       "3  Serie A  Brazil  https://www.oddsportal.com/soccer/brazil/serie...   \n",
       "4  Serie A  Brazil  https://www.oddsportal.com/soccer/brazil/serie...   \n",
       "\n",
       "   start_time    end_time           team1       team2  team1_score  \\\n",
       "0  1559523600  1559529000     Atletico-MG         CSA          4.0   \n",
       "1  1559523600  1559529000  Chapecoense-SC   Palmeiras          1.0   \n",
       "2  1559523600  1559529000   Internacional        Avai          2.0   \n",
       "3  1559512800  1559518200    Athletico-PR  Fluminense          3.0   \n",
       "4  1559512800  1559518200           Ceara      Santos          0.0   \n",
       "\n",
       "   team2_score outcome team1_odds team2_odds draw_odds  \n",
       "0          0.0   TEAM1       1.41       7.98      4.31  \n",
       "1          2.0   TEAM2       5.92       1.63      3.51  \n",
       "2          0.0   TEAM1       1.43       8.22      4.15  \n",
       "3          0.0   TEAM1       1.64       5.39      3.77  \n",
       "4          1.0   TEAM2       2.69       2.65      3.16  "
      ]
     },
     "execution_count": 2,
     "metadata": {},
     "output_type": "execute_result"
    }
   ],
   "source": [
    "data = pd.read_csv(join(DATAFOLDER, 'matches-Brazil.csv'))\n",
    "data.head()"
   ]
  },
  {
   "cell_type": "code",
   "execution_count": 3,
   "metadata": {},
   "outputs": [
    {
     "name": "stdout",
     "output_type": "stream",
     "text": [
      "<class 'pandas.core.frame.DataFrame'>\n",
      "RangeIndex: 6412 entries, 0 to 6411\n",
      "Data columns (total 13 columns):\n",
      "league                6412 non-null object\n",
      "area                  6412 non-null object\n",
      "retrieved_from_url    6412 non-null object\n",
      "start_time            6412 non-null int64\n",
      "end_time              6412 non-null int64\n",
      "team1                 6412 non-null object\n",
      "team2                 6412 non-null object\n",
      "team1_score           6411 non-null float64\n",
      "team2_score           6411 non-null float64\n",
      "outcome               6412 non-null object\n",
      "team1_odds            6412 non-null object\n",
      "team2_odds            6412 non-null object\n",
      "draw_odds             6412 non-null object\n",
      "dtypes: float64(2), int64(2), object(9)\n",
      "memory usage: 651.3+ KB\n"
     ]
    }
   ],
   "source": [
    "data.info()"
   ]
  },
  {
   "cell_type": "markdown",
   "metadata": {},
   "source": [
    "Check for NaN entries"
   ]
  },
  {
   "cell_type": "code",
   "execution_count": 4,
   "metadata": {},
   "outputs": [
    {
     "data": {
      "text/plain": [
       "(6411, 13)"
      ]
     },
     "execution_count": 4,
     "metadata": {},
     "output_type": "execute_result"
    }
   ],
   "source": [
    "data_dropped = data.dropna()\n",
    "data_dropped.shape"
   ]
  },
  {
   "cell_type": "markdown",
   "metadata": {},
   "source": [
    "Check for duplicates"
   ]
  },
  {
   "cell_type": "code",
   "execution_count": 5,
   "metadata": {},
   "outputs": [
    {
     "data": {
      "text/plain": [
       "(6031, 13)"
      ]
     },
     "execution_count": 5,
     "metadata": {},
     "output_type": "execute_result"
    }
   ],
   "source": [
    "data_dropped = data_dropped.drop(data_dropped.loc[data_dropped.duplicated()].index)\n",
    "data_dropped.shape"
   ]
  },
  {
   "cell_type": "markdown",
   "metadata": {},
   "source": [
    "# UTC data to readable data"
   ]
  },
  {
   "cell_type": "code",
   "execution_count": 6,
   "metadata": {},
   "outputs": [],
   "source": [
    "def utc2time(d):\n",
    "    return datetime.utcfromtimestamp(d).strftime('%Y-%m-%d %H:%M:%S')"
   ]
  },
  {
   "cell_type": "code",
   "execution_count": 7,
   "metadata": {},
   "outputs": [],
   "source": [
    "data.start_time = data_dropped.start_time.apply(utc2time)\n",
    "data.end_time = data_dropped.end_time.apply(utc2time)"
   ]
  },
  {
   "cell_type": "code",
   "execution_count": 8,
   "metadata": {},
   "outputs": [
    {
     "data": {
      "text/plain": [
       "str"
      ]
     },
     "execution_count": 8,
     "metadata": {},
     "output_type": "execute_result"
    }
   ],
   "source": [
    "type(data.start_time[0])"
   ]
  },
  {
   "cell_type": "markdown",
   "metadata": {},
   "source": [
    "### Sort data"
   ]
  },
  {
   "cell_type": "code",
   "execution_count": 9,
   "metadata": {},
   "outputs": [
    {
     "data": {
      "text/html": [
       "<div>\n",
       "<style scoped>\n",
       "    .dataframe tbody tr th:only-of-type {\n",
       "        vertical-align: middle;\n",
       "    }\n",
       "\n",
       "    .dataframe tbody tr th {\n",
       "        vertical-align: top;\n",
       "    }\n",
       "\n",
       "    .dataframe thead th {\n",
       "        text-align: right;\n",
       "    }\n",
       "</style>\n",
       "<table border=\"1\" class=\"dataframe\">\n",
       "  <thead>\n",
       "    <tr style=\"text-align: right;\">\n",
       "      <th></th>\n",
       "      <th>league</th>\n",
       "      <th>area</th>\n",
       "      <th>retrieved_from_url</th>\n",
       "      <th>start_time</th>\n",
       "      <th>end_time</th>\n",
       "      <th>team1</th>\n",
       "      <th>team2</th>\n",
       "      <th>team1_score</th>\n",
       "      <th>team2_score</th>\n",
       "      <th>outcome</th>\n",
       "      <th>team1_odds</th>\n",
       "      <th>team2_odds</th>\n",
       "      <th>draw_odds</th>\n",
       "    </tr>\n",
       "  </thead>\n",
       "  <tbody>\n",
       "    <tr>\n",
       "      <th>6031</th>\n",
       "      <td>Serie A</td>\n",
       "      <td>Brazil</td>\n",
       "      <td>https://www.oddsportal.com/soccer/brazil/serie...</td>\n",
       "      <td>2004-04-21 22:00:00</td>\n",
       "      <td>2004-04-21 23:30:00</td>\n",
       "      <td>Sao Caetano</td>\n",
       "      <td>Vitoria</td>\n",
       "      <td>1.0</td>\n",
       "      <td>0.0</td>\n",
       "      <td>TEAM1</td>\n",
       "      <td>1.5</td>\n",
       "      <td>6.17</td>\n",
       "      <td>3.48</td>\n",
       "    </tr>\n",
       "    <tr>\n",
       "      <th>6030</th>\n",
       "      <td>Serie A</td>\n",
       "      <td>Brazil</td>\n",
       "      <td>https://www.oddsportal.com/soccer/brazil/serie...</td>\n",
       "      <td>2004-04-21 22:00:00</td>\n",
       "      <td>2004-04-21 23:30:00</td>\n",
       "      <td>Figueirense</td>\n",
       "      <td>Internacional</td>\n",
       "      <td>1.0</td>\n",
       "      <td>0.0</td>\n",
       "      <td>TEAM1</td>\n",
       "      <td>2.1</td>\n",
       "      <td>3.15</td>\n",
       "      <td>3.17</td>\n",
       "    </tr>\n",
       "    <tr>\n",
       "      <th>6029</th>\n",
       "      <td>Serie A</td>\n",
       "      <td>Brazil</td>\n",
       "      <td>https://www.oddsportal.com/soccer/brazil/serie...</td>\n",
       "      <td>2004-04-21 22:00:00</td>\n",
       "      <td>2004-04-21 23:30:00</td>\n",
       "      <td>Botafogo RJ</td>\n",
       "      <td>Goias</td>\n",
       "      <td>1.0</td>\n",
       "      <td>4.0</td>\n",
       "      <td>TEAM2</td>\n",
       "      <td>1.9</td>\n",
       "      <td>3.64</td>\n",
       "      <td>3.2</td>\n",
       "    </tr>\n",
       "    <tr>\n",
       "      <th>6028</th>\n",
       "      <td>Serie A</td>\n",
       "      <td>Brazil</td>\n",
       "      <td>https://www.oddsportal.com/soccer/brazil/serie...</td>\n",
       "      <td>2004-04-22 00:00:00</td>\n",
       "      <td>2004-04-22 01:30:00</td>\n",
       "      <td>Palmeiras</td>\n",
       "      <td>Atletico-MG</td>\n",
       "      <td>0.0</td>\n",
       "      <td>0.0</td>\n",
       "      <td>DRAW</td>\n",
       "      <td>1.95</td>\n",
       "      <td>3.6</td>\n",
       "      <td>3.25</td>\n",
       "    </tr>\n",
       "    <tr>\n",
       "      <th>6027</th>\n",
       "      <td>Serie A</td>\n",
       "      <td>Brazil</td>\n",
       "      <td>https://www.oddsportal.com/soccer/brazil/serie...</td>\n",
       "      <td>2004-04-22 00:00:00</td>\n",
       "      <td>2004-04-22 01:30:00</td>\n",
       "      <td>Cruzeiro</td>\n",
       "      <td>Juventude</td>\n",
       "      <td>2.0</td>\n",
       "      <td>1.0</td>\n",
       "      <td>TEAM1</td>\n",
       "      <td>1.33</td>\n",
       "      <td>-</td>\n",
       "      <td>4.18</td>\n",
       "    </tr>\n",
       "  </tbody>\n",
       "</table>\n",
       "</div>"
      ],
      "text/plain": [
       "       league    area                                 retrieved_from_url  \\\n",
       "6031  Serie A  Brazil  https://www.oddsportal.com/soccer/brazil/serie...   \n",
       "6030  Serie A  Brazil  https://www.oddsportal.com/soccer/brazil/serie...   \n",
       "6029  Serie A  Brazil  https://www.oddsportal.com/soccer/brazil/serie...   \n",
       "6028  Serie A  Brazil  https://www.oddsportal.com/soccer/brazil/serie...   \n",
       "6027  Serie A  Brazil  https://www.oddsportal.com/soccer/brazil/serie...   \n",
       "\n",
       "               start_time             end_time        team1          team2  \\\n",
       "6031  2004-04-21 22:00:00  2004-04-21 23:30:00  Sao Caetano        Vitoria   \n",
       "6030  2004-04-21 22:00:00  2004-04-21 23:30:00  Figueirense  Internacional   \n",
       "6029  2004-04-21 22:00:00  2004-04-21 23:30:00  Botafogo RJ          Goias   \n",
       "6028  2004-04-22 00:00:00  2004-04-22 01:30:00    Palmeiras    Atletico-MG   \n",
       "6027  2004-04-22 00:00:00  2004-04-22 01:30:00     Cruzeiro      Juventude   \n",
       "\n",
       "      team1_score  team2_score outcome team1_odds team2_odds draw_odds  \n",
       "6031          1.0          0.0   TEAM1        1.5       6.17      3.48  \n",
       "6030          1.0          0.0   TEAM1        2.1       3.15      3.17  \n",
       "6029          1.0          4.0   TEAM2        1.9       3.64       3.2  \n",
       "6028          0.0          0.0    DRAW       1.95        3.6      3.25  \n",
       "6027          2.0          1.0   TEAM1       1.33          -      4.18  "
      ]
     },
     "execution_count": 9,
     "metadata": {},
     "output_type": "execute_result"
    }
   ],
   "source": [
    "data.sort_values(by='start_time', inplace=True)\n",
    "data.head()"
   ]
  },
  {
   "cell_type": "code",
   "execution_count": 10,
   "metadata": {},
   "outputs": [],
   "source": [
    "idx = data['start_time'] < '2018'\n",
    "data_until2018 = data.loc[idx]\n",
    "data_from2018 = data.drop(data_until2018.index)"
   ]
  },
  {
   "cell_type": "code",
   "execution_count": 11,
   "metadata": {},
   "outputs": [
    {
     "data": {
      "text/plain": [
       "(830, 13)"
      ]
     },
     "execution_count": 11,
     "metadata": {},
     "output_type": "execute_result"
    }
   ],
   "source": [
    "data_from2018.shape"
   ]
  },
  {
   "cell_type": "code",
   "execution_count": 12,
   "metadata": {},
   "outputs": [
    {
     "data": {
      "text/plain": [
       "(5582, 13)"
      ]
     },
     "execution_count": 12,
     "metadata": {},
     "output_type": "execute_result"
    }
   ],
   "source": [
    "data_until2018.shape"
   ]
  },
  {
   "cell_type": "code",
   "execution_count": 13,
   "metadata": {},
   "outputs": [
    {
     "data": {
      "text/plain": [
       "(6412, 13)"
      ]
     },
     "execution_count": 13,
     "metadata": {},
     "output_type": "execute_result"
    }
   ],
   "source": [
    "data.shape"
   ]
  },
  {
   "cell_type": "markdown",
   "metadata": {},
   "source": [
    "# Overall data analyses"
   ]
  },
  {
   "cell_type": "markdown",
   "metadata": {},
   "source": [
    "Let us take a look how many teams are in this database"
   ]
  },
  {
   "cell_type": "code",
   "execution_count": 14,
   "metadata": {},
   "outputs": [
    {
     "data": {
      "text/plain": [
       "array(['Sao Caetano', 'Figueirense', 'Botafogo RJ', 'Palmeiras',\n",
       "       'Cruzeiro', 'Ponte Preta', 'Gremio', 'Coritiba', 'Vasco',\n",
       "       'Sao Paulo', 'Paysandu PA', 'Goias', 'Flamengo RJ', 'Juventude',\n",
       "       'Internacional', 'Guarani', 'Fluminense', 'Corinthians',\n",
       "       'Athletico-PR', 'Vitoria', 'Santos', 'Criciuma', 'Parana',\n",
       "       'Atletico-MG', 'Fortaleza', 'Brasiliense', 'Santa Cruz',\n",
       "       'Sport Recife', 'America RN', 'Nautico', 'Betim', 'Portuguesa',\n",
       "       'Avai', 'Santo Andre', 'Barueri', 'Atletico GO', 'Ceara',\n",
       "       'America MG', 'Bahia', 'Chapecoense-SC', 'Joinville', 'Vitoria',\n",
       "       'Internacional', 'Goias', 'Atletico-MG', 'Juventude',\n",
       "       'Corinthians', 'Flamengo RJ', 'Guarani', 'Criciuma',\n",
       "       'Athletico-PR', 'Fluminense', 'Cruzeiro', 'Ponte Preta', 'Gremio',\n",
       "       'Palmeiras', 'Sao Caetano', 'Coritiba', 'Paysandu PA',\n",
       "       'Figueirense', 'Parana', 'Botafogo RJ', 'Sao Paulo', 'Santos',\n",
       "       'Vasco', 'Fortaleza', 'Brasiliense', 'Santa Cruz', 'Nautico',\n",
       "       'America RN', 'Sport Recife', 'Portuguesa', 'Betim', 'Barueri',\n",
       "       'Avai', 'Santo Andre', 'Atletico GO', 'Ceara', 'Bahia',\n",
       "       'America MG', 'Gremio\\xa0', 'Chapecoense-SC', 'Joinville',\n",
       "       'Chapecoense-SC\\xa0', 'Vitoria\\xa0'], dtype=object)"
      ]
     },
     "execution_count": 14,
     "metadata": {},
     "output_type": "execute_result"
    }
   ],
   "source": [
    "teams1 = data_until2018['team1'].unique()\n",
    "teams2 = data_until2018['team2'].unique()\n",
    "all_teams = np.append(teams1, teams2)\n",
    "all_teams"
   ]
  },
  {
   "cell_type": "code",
   "execution_count": 15,
   "metadata": {},
   "outputs": [
    {
     "data": {
      "text/plain": [
       "array(['America MG', 'America RN', 'Athletico-PR', 'Atletico GO',\n",
       "       'Atletico-MG', 'Avai', 'Bahia', 'Barueri', 'Betim', 'Botafogo RJ',\n",
       "       'Brasiliense', 'Ceara', 'Chapecoense-SC', 'Chapecoense-SC\\xa0',\n",
       "       'Corinthians', 'Coritiba', 'Criciuma', 'Cruzeiro', 'Figueirense',\n",
       "       'Flamengo RJ', 'Fluminense', 'Fortaleza', 'Goias', 'Gremio',\n",
       "       'Gremio\\xa0', 'Guarani', 'Internacional', 'Joinville', 'Juventude',\n",
       "       'Nautico', 'Palmeiras', 'Parana', 'Paysandu PA', 'Ponte Preta',\n",
       "       'Portuguesa', 'Santa Cruz', 'Santo Andre', 'Santos', 'Sao Caetano',\n",
       "       'Sao Paulo', 'Sport Recife', 'Vasco', 'Vitoria', 'Vitoria\\xa0'],\n",
       "      dtype=object)"
      ]
     },
     "execution_count": 15,
     "metadata": {},
     "output_type": "execute_result"
    }
   ],
   "source": [
    "all_teams = np.unique(all_teams)\n",
    "all_teams"
   ]
  },
  {
   "cell_type": "code",
   "execution_count": 16,
   "metadata": {},
   "outputs": [
    {
     "data": {
      "text/plain": [
       "(44,)"
      ]
     },
     "execution_count": 16,
     "metadata": {},
     "output_type": "execute_result"
    }
   ],
   "source": [
    "all_teams.shape"
   ]
  },
  {
   "cell_type": "markdown",
   "metadata": {},
   "source": [
    "There are 24 teams that participate in league up to 2018. Let's take a look on:\n",
    "- How many matches which teams has been participated."
   ]
  },
  {
   "cell_type": "code",
   "execution_count": 17,
   "metadata": {},
   "outputs": [],
   "source": [
    "def set_year(date_str):\n",
    "    date = datetime.strptime(date_str, '%Y-%m-%d %H:%M:%S')\n",
    "    return date.year"
   ]
  },
  {
   "cell_type": "code",
   "execution_count": 18,
   "metadata": {},
   "outputs": [
    {
     "name": "stderr",
     "output_type": "stream",
     "text": [
      "/home/navar/.local/lib/python3.6/site-packages/ipykernel_launcher.py:1: SettingWithCopyWarning: \n",
      "A value is trying to be set on a copy of a slice from a DataFrame.\n",
      "Try using .loc[row_indexer,col_indexer] = value instead\n",
      "\n",
      "See the caveats in the documentation: http://pandas.pydata.org/pandas-docs/stable/indexing.html#indexing-view-versus-copy\n",
      "  \"\"\"Entry point for launching an IPython kernel.\n"
     ]
    }
   ],
   "source": [
    "data_until2018['year'] = data_until2018['start_time'].apply(set_year)"
   ]
  },
  {
   "cell_type": "code",
   "execution_count": 19,
   "metadata": {},
   "outputs": [],
   "source": [
    "data_team_by_year = data_until2018.groupby(by=['year', 'team1']).team1.count()"
   ]
  },
  {
   "cell_type": "code",
   "execution_count": 20,
   "metadata": {},
   "outputs": [
    {
     "ename": "NameError",
     "evalue": "name 'date' is not defined",
     "output_type": "error",
     "traceback": [
      "\u001b[0;31m---------------------------------------------------------------------------\u001b[0m",
      "\u001b[0;31mNameError\u001b[0m                                 Traceback (most recent call last)",
      "\u001b[0;32m<ipython-input-20-a975c295ddea>\u001b[0m in \u001b[0;36m<module>\u001b[0;34m\u001b[0m\n\u001b[0;32m----> 1\u001b[0;31m \u001b[0mdate\u001b[0m\u001b[0;34m\u001b[0m\u001b[0;34m\u001b[0m\u001b[0m\n\u001b[0m",
      "\u001b[0;31mNameError\u001b[0m: name 'date' is not defined"
     ]
    }
   ],
   "source": [
    "date"
   ]
  },
  {
   "cell_type": "code",
   "execution_count": null,
   "metadata": {},
   "outputs": [],
   "source": [
    "data_team_by_year.head()"
   ]
  },
  {
   "cell_type": "code",
   "execution_count": null,
   "metadata": {},
   "outputs": [],
   "source": [
    "data_team_by_year.loc[2004].plot()"
   ]
  },
  {
   "cell_type": "markdown",
   "metadata": {},
   "source": [
    "In a give year all team attent to the same number o matches."
   ]
  },
  {
   "cell_type": "code",
   "execution_count": null,
   "metadata": {},
   "outputs": [],
   "source": [
    "gb_year = data_until2018.groupby(by='year')\n",
    "gb_year.get_group(2010).head()"
   ]
  },
  {
   "cell_type": "code",
   "execution_count": null,
   "metadata": {},
   "outputs": [],
   "source": [
    "count_outcome_by_year = gb_year.outcome.value_counts().unstack()\n",
    "count_outcome_by_year"
   ]
  },
  {
   "cell_type": "code",
   "execution_count": null,
   "metadata": {},
   "outputs": [],
   "source": [
    "count_outcome_by_year.plot(kind='barh', stacked=True, figsize=[16,6], colormap='winter')"
   ]
  },
  {
   "cell_type": "markdown",
   "metadata": {},
   "source": [
    "We can see that the number of matches that resulted in `DRAW` tend to be the same over a 12 year period. "
   ]
  },
  {
   "cell_type": "code",
   "execution_count": null,
   "metadata": {},
   "outputs": [],
   "source": [
    "count_outcome_by_year.describe()"
   ]
  },
  {
   "cell_type": "code",
   "execution_count": null,
   "metadata": {},
   "outputs": [],
   "source": [
    "count_outcome_by_year.describe()"
   ]
  },
  {
   "cell_type": "code",
   "execution_count": null,
   "metadata": {},
   "outputs": [],
   "source": [
    "def matches_percentage(row):\n",
    "    return row / row.sum()"
   ]
  },
  {
   "cell_type": "code",
   "execution_count": null,
   "metadata": {},
   "outputs": [],
   "source": [
    "for idx, row in count_outcome_by_year.iterrows():\n",
    "    count_outcome_by_year.loc[idx] = matches_percentage(row)"
   ]
  },
  {
   "cell_type": "code",
   "execution_count": null,
   "metadata": {},
   "outputs": [],
   "source": [
    "count_outcome_by_year.describe()"
   ]
  },
  {
   "cell_type": "markdown",
   "metadata": {},
   "source": [
    "About **26%** of matches resulted in `DRAW`"
   ]
  },
  {
   "cell_type": "markdown",
   "metadata": {},
   "source": [
    "But what happened in **2010**?"
   ]
  },
  {
   "cell_type": "code",
   "execution_count": null,
   "metadata": {},
   "outputs": [],
   "source": [
    "(gb_year.outcome.count() / gb_year.outcome.count().max()).plot()"
   ]
  },
  {
   "cell_type": "markdown",
   "metadata": {},
   "source": [
    "In 2004 there were more about **30%** more matches than in other years. Why is that? Is that an outlier? Let us to investigate:\n",
    "- How many teams are participating each season\n",
    "- How many matches teams have attend in average.\n",
    "- Compare everything agains 2010's data. (There were some duplicates. fixed at the beggining)"
   ]
  },
  {
   "cell_type": "code",
   "execution_count": null,
   "metadata": {},
   "outputs": [],
   "source": [
    "gb_year.team1.count()"
   ]
  },
  {
   "cell_type": "code",
   "execution_count": null,
   "metadata": {},
   "outputs": [],
   "source": [
    "number_teams = []\n",
    "number_of_matches = []\n",
    "average_matches = []\n",
    "year = []\n",
    "\n",
    "for idx, row in gb_year.team1.unique().items():\n",
    "    average_matches.append(gb_year.team1.count()[idx] / len(row))\n",
    "    number_teams.append(len(row))\n",
    "    number_of_matches.append(gb_year.team1.count()[idx])\n",
    "    year.append(idx)\n",
    "    \n",
    "teams = {'number_of_matches': number_of_matches,\n",
    "         'number_teams': number_teams,\n",
    "         'average_matches': average_matches}"
   ]
  },
  {
   "cell_type": "code",
   "execution_count": null,
   "metadata": {},
   "outputs": [],
   "source": [
    "df_teams = pd.DataFrame(data=teams, index=year)\n",
    "df_teams"
   ]
  },
  {
   "cell_type": "code",
   "execution_count": null,
   "metadata": {},
   "outputs": [],
   "source": [
    "df_teams.plot(subplots=True, layout=(1,3), figsize=(16,6))\n",
    "plt.show()"
   ]
  },
  {
   "cell_type": "markdown",
   "metadata": {},
   "source": [
    "There were more team participating the league back in 2004."
   ]
  },
  {
   "cell_type": "markdown",
   "metadata": {},
   "source": [
    "# Teams statistics"
   ]
  },
  {
   "cell_type": "code",
   "execution_count": null,
   "metadata": {},
   "outputs": [],
   "source": [
    "gb_team1 = data_until2018.groupby(by='team1')"
   ]
  },
  {
   "cell_type": "code",
   "execution_count": null,
   "metadata": {},
   "outputs": [],
   "source": [
    "gb_team1.year.value_counts().head()"
   ]
  },
  {
   "cell_type": "markdown",
   "metadata": {},
   "source": [
    "## How the results are distributed"
   ]
  },
  {
   "cell_type": "code",
   "execution_count": null,
   "metadata": {},
   "outputs": [],
   "source": [
    "outcome_by_team = gb_team1.outcome.value_counts().unstack()"
   ]
  },
  {
   "cell_type": "code",
   "execution_count": null,
   "metadata": {},
   "outputs": [],
   "source": [
    "outcome_by_team.plot(kind='bar', stacked=True, figsize=[16,5], colormap='copper')\n",
    "plt.show()"
   ]
  },
  {
   "cell_type": "markdown",
   "metadata": {},
   "source": [
    "Let us answer:\n",
    "- How many matches each team has player and how they are distributed over the period."
   ]
  },
  {
   "cell_type": "code",
   "execution_count": null,
   "metadata": {},
   "outputs": [],
   "source": [
    "outcome_by_team['matches'] = outcome_by_team.sum(axis=1)\n",
    "outcome_by_team.head()"
   ]
  },
  {
   "cell_type": "code",
   "execution_count": null,
   "metadata": {},
   "outputs": [],
   "source": [
    "outcome_by_team['matches'].plot(kind='bar', stacked=True, figsize=[16,5], colormap='copper')\n",
    "plt.show()"
   ]
  },
  {
   "cell_type": "code",
   "execution_count": null,
   "metadata": {},
   "outputs": [],
   "source": []
  },
  {
   "cell_type": "code",
   "execution_count": null,
   "metadata": {},
   "outputs": [],
   "source": []
  },
  {
   "cell_type": "code",
   "execution_count": null,
   "metadata": {},
   "outputs": [],
   "source": [
    "gb_outcome = data_until2018.groupby(by=['outcome', 'year'])\n",
    "gb_outcome"
   ]
  },
  {
   "cell_type": "code",
   "execution_count": null,
   "metadata": {},
   "outputs": [],
   "source": [
    "gb_outcome['team1']"
   ]
  },
  {
   "cell_type": "code",
   "execution_count": null,
   "metadata": {},
   "outputs": [],
   "source": [
    "gb_team1 = data_until2018.groupby(by='team1')\n",
    "gb_year.get_group('Palmeiras').head()"
   ]
  },
  {
   "cell_type": "code",
   "execution_count": null,
   "metadata": {},
   "outputs": [],
   "source": []
  },
  {
   "cell_type": "code",
   "execution_count": null,
   "metadata": {},
   "outputs": [],
   "source": []
  },
  {
   "cell_type": "code",
   "execution_count": null,
   "metadata": {},
   "outputs": [],
   "source": []
  },
  {
   "cell_type": "code",
   "execution_count": null,
   "metadata": {},
   "outputs": [],
   "source": []
  },
  {
   "cell_type": "code",
   "execution_count": null,
   "metadata": {},
   "outputs": [],
   "source": [
    "data_from2018.groupby('start_time')"
   ]
  },
  {
   "cell_type": "code",
   "execution_count": null,
   "metadata": {},
   "outputs": [],
   "source": [
    "data_from2018.groupby('start_time')"
   ]
  },
  {
   "cell_type": "code",
   "execution_count": null,
   "metadata": {},
   "outputs": [],
   "source": []
  },
  {
   "cell_type": "markdown",
   "metadata": {},
   "source": [
    "# Export data"
   ]
  },
  {
   "cell_type": "code",
   "execution_count": null,
   "metadata": {},
   "outputs": [],
   "source": [
    "data_until2018.to_csv(join(DATAFOLDER, 'matches-Brazil-2004-2017.csv'),index=False)"
   ]
  },
  {
   "cell_type": "code",
   "execution_count": null,
   "metadata": {},
   "outputs": [],
   "source": []
  },
  {
   "cell_type": "code",
   "execution_count": 128,
   "metadata": {},
   "outputs": [],
   "source": [
    "u = data_until2018.groupby('year')"
   ]
  },
  {
   "cell_type": "code",
   "execution_count": 138,
   "metadata": {},
   "outputs": [],
   "source": [
    "years_range = np.array([2004, 2005, 2006, 2007])\n",
    "\n",
    "def split():\n",
    "    for y in range(max(years_range.shape)-1):\n",
    "        print(\"it {}\".format(y))\n",
    "        print(years_range[:y+1])\n",
    "        print(years_range[y+1:])\n",
    "\n",
    "        years_train = years_range[:y+1]\n",
    "        years_test = years_range[y+1:]\n",
    "\n",
    "        #train_idx = []\n",
    "        train_idx = np.array([])\n",
    "        for year in years_train:\n",
    "            train_idx = np.append(train_idx, u.indices[year])\n",
    "            #train_idx.append(u.indices[year])\n",
    "            \n",
    "        yield train_idx\n",
    "        \n",
    "    \n",
    "    "
   ]
  },
  {
   "cell_type": "code",
   "execution_count": 140,
   "metadata": {},
   "outputs": [
    {
     "name": "stdout",
     "output_type": "stream",
     "text": [
      "it 0\n",
      "[2004]\n",
      "[2005 2006 2007]\n",
      "it 1\n",
      "[2004 2005]\n",
      "[2006 2007]\n",
      "it 2\n",
      "[2004 2005 2006]\n",
      "[2007]\n"
     ]
    }
   ],
   "source": [
    "ui = []\n",
    "for i in split():\n",
    "    ui.append(data_until2018.iloc[i])\n",
    "    #print(i)"
   ]
  },
  {
   "cell_type": "code",
   "execution_count": 149,
   "metadata": {},
   "outputs": [
    {
     "data": {
      "text/plain": [
       "(997, 14)"
      ]
     },
     "execution_count": 149,
     "metadata": {},
     "output_type": "execute_result"
    }
   ],
   "source": [
    "ui[1].shape"
   ]
  },
  {
   "cell_type": "code",
   "execution_count": 116,
   "metadata": {},
   "outputs": [
    {
     "data": {
      "text/html": [
       "<div>\n",
       "<style scoped>\n",
       "    .dataframe tbody tr th:only-of-type {\n",
       "        vertical-align: middle;\n",
       "    }\n",
       "\n",
       "    .dataframe tbody tr th {\n",
       "        vertical-align: top;\n",
       "    }\n",
       "\n",
       "    .dataframe thead th {\n",
       "        text-align: right;\n",
       "    }\n",
       "</style>\n",
       "<table border=\"1\" class=\"dataframe\">\n",
       "  <thead>\n",
       "    <tr style=\"text-align: right;\">\n",
       "      <th></th>\n",
       "      <th>league</th>\n",
       "      <th>area</th>\n",
       "      <th>retrieved_from_url</th>\n",
       "      <th>start_time</th>\n",
       "      <th>end_time</th>\n",
       "      <th>team1</th>\n",
       "      <th>team2</th>\n",
       "      <th>team1_score</th>\n",
       "      <th>team2_score</th>\n",
       "      <th>outcome</th>\n",
       "      <th>team1_odds</th>\n",
       "      <th>team2_odds</th>\n",
       "      <th>draw_odds</th>\n",
       "      <th>year</th>\n",
       "    </tr>\n",
       "  </thead>\n",
       "  <tbody>\n",
       "    <tr>\n",
       "      <th>4660</th>\n",
       "      <td>Serie A</td>\n",
       "      <td>Brazil</td>\n",
       "      <td>https://www.oddsportal.com/soccer/brazil/serie...</td>\n",
       "      <td>2006-12-03 21:00:00</td>\n",
       "      <td>2006-12-03 22:30:00</td>\n",
       "      <td>Figueirense</td>\n",
       "      <td>Vasco</td>\n",
       "      <td>0.0</td>\n",
       "      <td>0.0</td>\n",
       "      <td>DRAW</td>\n",
       "      <td>2.22</td>\n",
       "      <td>2.8</td>\n",
       "      <td>3.24</td>\n",
       "      <td>2006</td>\n",
       "    </tr>\n",
       "    <tr>\n",
       "      <th>4659</th>\n",
       "      <td>Serie A</td>\n",
       "      <td>Brazil</td>\n",
       "      <td>https://www.oddsportal.com/soccer/brazil/serie...</td>\n",
       "      <td>2006-12-03 21:00:00</td>\n",
       "      <td>2006-12-03 22:30:00</td>\n",
       "      <td>Cruzeiro</td>\n",
       "      <td>Botafogo RJ</td>\n",
       "      <td>3.0</td>\n",
       "      <td>1.0</td>\n",
       "      <td>TEAM1</td>\n",
       "      <td>1.63</td>\n",
       "      <td>4.77</td>\n",
       "      <td>3.38</td>\n",
       "      <td>2006</td>\n",
       "    </tr>\n",
       "    <tr>\n",
       "      <th>4658</th>\n",
       "      <td>Serie A</td>\n",
       "      <td>Brazil</td>\n",
       "      <td>https://www.oddsportal.com/soccer/brazil/serie...</td>\n",
       "      <td>2006-12-03 21:00:00</td>\n",
       "      <td>2006-12-03 22:30:00</td>\n",
       "      <td>Corinthians</td>\n",
       "      <td>Juventude</td>\n",
       "      <td>5.0</td>\n",
       "      <td>3.0</td>\n",
       "      <td>TEAM1</td>\n",
       "      <td>1.55</td>\n",
       "      <td>5.0</td>\n",
       "      <td>3.6</td>\n",
       "      <td>2006</td>\n",
       "    </tr>\n",
       "    <tr>\n",
       "      <th>4657</th>\n",
       "      <td>Serie A</td>\n",
       "      <td>Brazil</td>\n",
       "      <td>https://www.oddsportal.com/soccer/brazil/serie...</td>\n",
       "      <td>2006-12-03 23:10:00</td>\n",
       "      <td>2006-12-04 00:40:00</td>\n",
       "      <td>Santos</td>\n",
       "      <td>Santa Cruz</td>\n",
       "      <td>3.0</td>\n",
       "      <td>1.0</td>\n",
       "      <td>TEAM1</td>\n",
       "      <td>1.18</td>\n",
       "      <td>11.17</td>\n",
       "      <td>5.42</td>\n",
       "      <td>2006</td>\n",
       "    </tr>\n",
       "    <tr>\n",
       "      <th>4656</th>\n",
       "      <td>Serie A</td>\n",
       "      <td>Brazil</td>\n",
       "      <td>https://www.oddsportal.com/soccer/brazil/serie...</td>\n",
       "      <td>2006-12-03 23:10:00</td>\n",
       "      <td>2006-12-04 00:40:00</td>\n",
       "      <td>Fortaleza</td>\n",
       "      <td>Gremio</td>\n",
       "      <td>1.0</td>\n",
       "      <td>0.0</td>\n",
       "      <td>TEAM1</td>\n",
       "      <td>4.8</td>\n",
       "      <td>1.65</td>\n",
       "      <td>3.25</td>\n",
       "      <td>2006</td>\n",
       "    </tr>\n",
       "  </tbody>\n",
       "</table>\n",
       "</div>"
      ],
      "text/plain": [
       "       league    area                                 retrieved_from_url  \\\n",
       "4660  Serie A  Brazil  https://www.oddsportal.com/soccer/brazil/serie...   \n",
       "4659  Serie A  Brazil  https://www.oddsportal.com/soccer/brazil/serie...   \n",
       "4658  Serie A  Brazil  https://www.oddsportal.com/soccer/brazil/serie...   \n",
       "4657  Serie A  Brazil  https://www.oddsportal.com/soccer/brazil/serie...   \n",
       "4656  Serie A  Brazil  https://www.oddsportal.com/soccer/brazil/serie...   \n",
       "\n",
       "               start_time             end_time        team1        team2  \\\n",
       "4660  2006-12-03 21:00:00  2006-12-03 22:30:00  Figueirense        Vasco   \n",
       "4659  2006-12-03 21:00:00  2006-12-03 22:30:00     Cruzeiro  Botafogo RJ   \n",
       "4658  2006-12-03 21:00:00  2006-12-03 22:30:00  Corinthians    Juventude   \n",
       "4657  2006-12-03 23:10:00  2006-12-04 00:40:00       Santos   Santa Cruz   \n",
       "4656  2006-12-03 23:10:00  2006-12-04 00:40:00    Fortaleza       Gremio   \n",
       "\n",
       "      team1_score  team2_score outcome team1_odds team2_odds draw_odds  year  \n",
       "4660          0.0          0.0    DRAW       2.22        2.8      3.24  2006  \n",
       "4659          3.0          1.0   TEAM1       1.63       4.77      3.38  2006  \n",
       "4658          5.0          3.0   TEAM1       1.55        5.0       3.6  2006  \n",
       "4657          3.0          1.0   TEAM1       1.18      11.17      5.42  2006  \n",
       "4656          1.0          0.0   TEAM1        4.8       1.65      3.25  2006  "
      ]
     },
     "execution_count": 116,
     "metadata": {},
     "output_type": "execute_result"
    }
   ],
   "source": [
    "data_until2018.iloc[i].tail()"
   ]
  },
  {
   "cell_type": "code",
   "execution_count": null,
   "metadata": {},
   "outputs": [],
   "source": []
  },
  {
   "cell_type": "code",
   "execution_count": null,
   "metadata": {},
   "outputs": [],
   "source": [
    "u = [1,2,3,4]"
   ]
  },
  {
   "cell_type": "code",
   "execution_count": null,
   "metadata": {},
   "outputs": [],
   "source": [
    "from sklearn.model_selection import KFold\n",
    "\n",
    "kf = KFold()"
   ]
  },
  {
   "cell_type": "code",
   "execution_count": null,
   "metadata": {},
   "outputs": [],
   "source": [
    "for a, b in kf.split(u):\n",
    "    print(a)\n",
    "    print(b)"
   ]
  },
  {
   "cell_type": "code",
   "execution_count": 67,
   "metadata": {},
   "outputs": [
    {
     "ename": "TypeError",
     "evalue": "list indices must be integers or slices, not list",
     "output_type": "error",
     "traceback": [
      "\u001b[0;31m---------------------------------------------------------------------------\u001b[0m",
      "\u001b[0;31mTypeError\u001b[0m                                 Traceback (most recent call last)",
      "\u001b[0;32m<ipython-input-67-3c12238f1301>\u001b[0m in \u001b[0;36m<module>\u001b[0;34m\u001b[0m\n\u001b[0;32m----> 1\u001b[0;31m \u001b[0mu\u001b[0m\u001b[0;34m[\u001b[0m\u001b[0;34m[\u001b[0m\u001b[0;36m2\u001b[0m\u001b[0;34m,\u001b[0m\u001b[0;36m3\u001b[0m\u001b[0;34m]\u001b[0m\u001b[0;34m]\u001b[0m\u001b[0;34m\u001b[0m\u001b[0;34m\u001b[0m\u001b[0m\n\u001b[0m",
      "\u001b[0;31mTypeError\u001b[0m: list indices must be integers or slices, not list"
     ]
    }
   ],
   "source": [
    "="
   ]
  },
  {
   "cell_type": "code",
   "execution_count": null,
   "metadata": {},
   "outputs": [],
   "source": []
  }
 ],
 "metadata": {
  "kernelspec": {
   "display_name": "Python 3",
   "language": "python",
   "name": "python3"
  },
  "language_info": {
   "codemirror_mode": {
    "name": "ipython",
    "version": 3
   },
   "file_extension": ".py",
   "mimetype": "text/x-python",
   "name": "python",
   "nbconvert_exporter": "python",
   "pygments_lexer": "ipython3",
   "version": "3.6.8"
  }
 },
 "nbformat": 4,
 "nbformat_minor": 2
}
